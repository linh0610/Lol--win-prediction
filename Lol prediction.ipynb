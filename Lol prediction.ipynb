{
 "cells": [
  {
   "cell_type": "markdown",
   "id": "1fbb09b2-1464-4584-9089-dc36a5484c2d",
   "metadata": {},
   "source": [
    "# Imports"
   ]
  },
  {
   "cell_type": "code",
   "execution_count": 1,
   "id": "d1ecb390",
   "metadata": {},
   "outputs": [
    {
     "name": "stderr",
     "output_type": "stream",
     "text": [
      "-- \u001b[1mAttaching packages\u001b[22m ------------------------------------------------------------------------------ tidymodels 1.1.0 --\n",
      "\n",
      "\u001b[32mv\u001b[39m \u001b[34mdials       \u001b[39m 1.2.0     \u001b[32mv\u001b[39m \u001b[34mrsample     \u001b[39m 1.1.1\n",
      "\u001b[32mv\u001b[39m \u001b[34mdplyr       \u001b[39m 1.1.4     \u001b[32mv\u001b[39m \u001b[34mtibble      \u001b[39m 3.2.1\n",
      "\u001b[32mv\u001b[39m \u001b[34mggplot2     \u001b[39m 3.4.2     \u001b[32mv\u001b[39m \u001b[34mtidyr       \u001b[39m 1.3.1\n",
      "\u001b[32mv\u001b[39m \u001b[34minfer       \u001b[39m 1.0.4     \u001b[32mv\u001b[39m \u001b[34mtune        \u001b[39m 1.1.1\n",
      "\u001b[32mv\u001b[39m \u001b[34mmodeldata   \u001b[39m 1.1.0     \u001b[32mv\u001b[39m \u001b[34mworkflows   \u001b[39m 1.1.3\n",
      "\u001b[32mv\u001b[39m \u001b[34mparsnip     \u001b[39m 1.1.0     \u001b[32mv\u001b[39m \u001b[34mworkflowsets\u001b[39m 1.0.1\n",
      "\u001b[32mv\u001b[39m \u001b[34mpurrr       \u001b[39m 1.0.2     \u001b[32mv\u001b[39m \u001b[34myardstick   \u001b[39m 1.3.1\n",
      "\u001b[32mv\u001b[39m \u001b[34mrecipes     \u001b[39m 1.0.6     \n",
      "\n",
      "-- \u001b[1mConflicts\u001b[22m --------------------------------------------------------------------------------- tidymodels_conflicts() --\n",
      "\u001b[31mx\u001b[39m \u001b[34mpurrr\u001b[39m::\u001b[32mdiscard()\u001b[39m masks \u001b[34mscales\u001b[39m::discard()\n",
      "\u001b[31mx\u001b[39m \u001b[34mdplyr\u001b[39m::\u001b[32mfilter()\u001b[39m  masks \u001b[34mstats\u001b[39m::filter()\n",
      "\u001b[31mx\u001b[39m \u001b[34mdplyr\u001b[39m::\u001b[32mlag()\u001b[39m     masks \u001b[34mstats\u001b[39m::lag()\n",
      "\u001b[31mx\u001b[39m \u001b[34mrecipes\u001b[39m::\u001b[32mstep()\u001b[39m  masks \u001b[34mstats\u001b[39m::step()\n",
      "\u001b[34m*\u001b[39m Use \u001b[32mtidymodels_prefer()\u001b[39m to resolve common conflicts.\n",
      "\n",
      "\n",
      "Attaching package: 'gridExtra'\n",
      "\n",
      "\n",
      "The following object is masked from 'package:dplyr':\n",
      "\n",
      "    combine\n",
      "\n",
      "\n",
      "\n",
      "Attaching package: 'mltools'\n",
      "\n",
      "\n",
      "The following objects are masked from 'package:yardstick':\n",
      "\n",
      "    mcc, rmse\n",
      "\n",
      "\n",
      "The following object is masked from 'package:tidyr':\n",
      "\n",
      "    replace_na\n",
      "\n",
      "\n",
      "Loading required package: Matrix\n",
      "\n",
      "\n",
      "Attaching package: 'Matrix'\n",
      "\n",
      "\n",
      "The following objects are masked from 'package:tidyr':\n",
      "\n",
      "    expand, pack, unpack\n",
      "\n",
      "\n",
      "Loaded glmnet 4.1-2\n",
      "\n",
      "-- \u001b[1mAttaching core tidyverse packages\u001b[22m ---------------------------------------------------------------- tidyverse 2.0.0 --\n",
      "\u001b[32mv\u001b[39m \u001b[34mforcats  \u001b[39m 1.0.0     \u001b[32mv\u001b[39m \u001b[34mreadr    \u001b[39m 2.1.5\n",
      "\u001b[32mv\u001b[39m \u001b[34mlubridate\u001b[39m 1.9.3     \u001b[32mv\u001b[39m \u001b[34mstringr  \u001b[39m 1.5.0\n",
      "-- \u001b[1mConflicts\u001b[22m ---------------------------------------------------------------------------------- tidyverse_conflicts() --\n",
      "\u001b[31mx\u001b[39m \u001b[34mreadr\u001b[39m::\u001b[32mcol_factor()\u001b[39m   masks \u001b[34mscales\u001b[39m::col_factor()\n",
      "\u001b[31mx\u001b[39m \u001b[34mgridExtra\u001b[39m::\u001b[32mcombine()\u001b[39m  masks \u001b[34mdplyr\u001b[39m::combine()\n",
      "\u001b[31mx\u001b[39m \u001b[34mpurrr\u001b[39m::\u001b[32mdiscard()\u001b[39m      masks \u001b[34mscales\u001b[39m::discard()\n",
      "\u001b[31mx\u001b[39m \u001b[34mMatrix\u001b[39m::\u001b[32mexpand()\u001b[39m      masks \u001b[34mtidyr\u001b[39m::expand()\n",
      "\u001b[31mx\u001b[39m \u001b[34mdplyr\u001b[39m::\u001b[32mfilter()\u001b[39m       masks \u001b[34mstats\u001b[39m::filter()\n",
      "\u001b[31mx\u001b[39m \u001b[34mstringr\u001b[39m::\u001b[32mfixed()\u001b[39m      masks \u001b[34mrecipes\u001b[39m::fixed()\n",
      "\u001b[31mx\u001b[39m \u001b[34mdplyr\u001b[39m::\u001b[32mlag()\u001b[39m          masks \u001b[34mstats\u001b[39m::lag()\n",
      "\u001b[31mx\u001b[39m \u001b[34mMatrix\u001b[39m::\u001b[32mpack()\u001b[39m        masks \u001b[34mtidyr\u001b[39m::pack()\n",
      "\u001b[31mx\u001b[39m \u001b[34mmltools\u001b[39m::\u001b[32mreplace_na()\u001b[39m masks \u001b[34mtidyr\u001b[39m::replace_na()\n",
      "\u001b[31mx\u001b[39m \u001b[34mreadr\u001b[39m::\u001b[32mspec()\u001b[39m         masks \u001b[34myardstick\u001b[39m::spec()\n",
      "\u001b[31mx\u001b[39m \u001b[34mlubridate\u001b[39m::\u001b[32mstamp()\u001b[39m    masks \u001b[34mcowplot\u001b[39m::stamp()\n",
      "\u001b[31mx\u001b[39m \u001b[34mMatrix\u001b[39m::\u001b[32munpack()\u001b[39m      masks \u001b[34mtidyr\u001b[39m::unpack()\n",
      "\u001b[36mi\u001b[39m Use the conflicted package (\u001b[3m\u001b[34m<http://conflicted.r-lib.org/>\u001b[39m\u001b[23m) to force all conflicts to become errors\n",
      "\n",
      "Attaching package: 'modelr'\n",
      "\n",
      "\n",
      "The following objects are masked from 'package:mltools':\n",
      "\n",
      "    mse, rmse\n",
      "\n",
      "\n",
      "The following objects are masked from 'package:yardstick':\n",
      "\n",
      "    mae, mape, rmse\n",
      "\n",
      "\n",
      "The following object is masked from 'package:broom':\n",
      "\n",
      "    bootstrap\n",
      "\n",
      "\n",
      "Registered S3 method overwritten by 'GGally':\n",
      "  method from   \n",
      "  +.gg   ggplot2\n",
      "\n",
      "\n",
      "Attaching package: 'GGally'\n",
      "\n",
      "\n",
      "The following object is masked from 'package:faraway':\n",
      "\n",
      "    happy\n",
      "\n",
      "\n",
      "corrplot 0.92 loaded\n",
      "\n",
      "\n",
      "Attaching package: 'ggmosaic'\n",
      "\n",
      "\n",
      "The following object is masked from 'package:GGally':\n",
      "\n",
      "    happy\n",
      "\n",
      "\n",
      "The following object is masked from 'package:faraway':\n",
      "\n",
      "    happy\n",
      "\n",
      "\n",
      "Loading required package: lattice\n",
      "\n",
      "\n",
      "Attaching package: 'lattice'\n",
      "\n",
      "\n",
      "The following object is masked from 'package:faraway':\n",
      "\n",
      "    melanoma\n",
      "\n",
      "\n",
      "\n",
      "Attaching package: 'caret'\n",
      "\n",
      "\n",
      "The following objects are masked from 'package:yardstick':\n",
      "\n",
      "    precision, recall, sensitivity, specificity\n",
      "\n",
      "\n",
      "The following object is masked from 'package:purrr':\n",
      "\n",
      "    lift\n",
      "\n",
      "\n",
      "Loading required package: grid\n",
      "\n",
      "\n",
      "Attaching package: 'vcd'\n",
      "\n",
      "\n",
      "The following objects are masked from 'package:ggmosaic':\n",
      "\n",
      "    mosaic, spine\n",
      "\n",
      "\n",
      "Type 'citation(\"pROC\")' for a citation.\n",
      "\n",
      "\n",
      "Attaching package: 'pROC'\n",
      "\n",
      "\n",
      "The following objects are masked from 'package:stats':\n",
      "\n",
      "    cov, smooth, var\n",
      "\n",
      "\n"
     ]
    }
   ],
   "source": [
    "library(broom)\n",
    "library(latex2exp)\n",
    "library(tidymodels)\n",
    "library(repr)\n",
    "library(gridExtra)\n",
    "library(faraway)\n",
    "library(mltools)\n",
    "library(leaps)\n",
    "library(glmnet)\n",
    "library(cowplot)\n",
    "library(tidyverse)\n",
    "library(modelr)\n",
    "library(GGally)\n",
    "library(corrplot)\n",
    "library(ggmosaic)\n",
    "library(glmnet)\n",
    "library(caret)\n",
    "library(vcd)\n",
    "library(pROC)"
   ]
  },
  {
   "cell_type": "markdown",
   "id": "550b3b41",
   "metadata": {},
   "source": [
    "# Data prep"
   ]
  },
  {
   "cell_type": "code",
   "execution_count": 25,
   "id": "4eaf6a3f",
   "metadata": {},
   "outputs": [],
   "source": [
    "data <- read_csv(\"data/games.csv\", col_names = TRUE, show_col_types = FALSE)\n",
    "\n",
    "# Change values in the fifth column\n",
    "data <- data %>%\n",
    "  mutate(across(5, ~ ifelse(. == 1, 1, 0)))\n"
   ]
  },
  {
   "cell_type": "code",
   "execution_count": 26,
   "id": "767f1020-9514-47ef-8121-a18c65275151",
   "metadata": {},
   "outputs": [
    {
     "data": {
      "text/html": [
       "<table class=\"dataframe\">\n",
       "<caption>A tibble: 6 × 61</caption>\n",
       "<thead>\n",
       "\t<tr><th scope=col>gameId</th><th scope=col>creationTime</th><th scope=col>gameDuration</th><th scope=col>seasonId</th><th scope=col>winner</th><th scope=col>firstBlood</th><th scope=col>firstTower</th><th scope=col>firstInhibitor</th><th scope=col>firstBaron</th><th scope=col>firstDragon</th><th scope=col>...</th><th scope=col>t2_towerKills</th><th scope=col>t2_inhibitorKills</th><th scope=col>t2_baronKills</th><th scope=col>t2_dragonKills</th><th scope=col>t2_riftHeraldKills</th><th scope=col>t2_ban1</th><th scope=col>t2_ban2</th><th scope=col>t2_ban3</th><th scope=col>t2_ban4</th><th scope=col>t2_ban5</th></tr>\n",
       "\t<tr><th scope=col>&lt;dbl&gt;</th><th scope=col>&lt;dbl&gt;</th><th scope=col>&lt;dbl&gt;</th><th scope=col>&lt;dbl&gt;</th><th scope=col>&lt;dbl&gt;</th><th scope=col>&lt;dbl&gt;</th><th scope=col>&lt;dbl&gt;</th><th scope=col>&lt;dbl&gt;</th><th scope=col>&lt;dbl&gt;</th><th scope=col>&lt;dbl&gt;</th><th scope=col>...</th><th scope=col>&lt;dbl&gt;</th><th scope=col>&lt;dbl&gt;</th><th scope=col>&lt;dbl&gt;</th><th scope=col>&lt;dbl&gt;</th><th scope=col>&lt;dbl&gt;</th><th scope=col>&lt;dbl&gt;</th><th scope=col>&lt;dbl&gt;</th><th scope=col>&lt;dbl&gt;</th><th scope=col>&lt;dbl&gt;</th><th scope=col>&lt;dbl&gt;</th></tr>\n",
       "</thead>\n",
       "<tbody>\n",
       "\t<tr><td>3326086514</td><td>1.504279e+12</td><td>1949</td><td>9</td><td>1</td><td>2</td><td>1</td><td>1</td><td>1</td><td>1</td><td>...</td><td>5</td><td>0</td><td>0</td><td>1</td><td>1</td><td>114</td><td> 67</td><td> 43</td><td> 16</td><td> 51</td></tr>\n",
       "\t<tr><td>3229566029</td><td>1.497849e+12</td><td>1851</td><td>9</td><td>1</td><td>1</td><td>1</td><td>1</td><td>0</td><td>1</td><td>...</td><td>2</td><td>0</td><td>0</td><td>0</td><td>0</td><td> 11</td><td> 67</td><td>238</td><td> 51</td><td>420</td></tr>\n",
       "\t<tr><td>3327363504</td><td>1.504360e+12</td><td>1493</td><td>9</td><td>1</td><td>2</td><td>1</td><td>1</td><td>1</td><td>2</td><td>...</td><td>2</td><td>0</td><td>0</td><td>1</td><td>0</td><td>157</td><td>238</td><td>121</td><td> 57</td><td> 28</td></tr>\n",
       "\t<tr><td>3326856598</td><td>1.504349e+12</td><td>1758</td><td>9</td><td>1</td><td>1</td><td>1</td><td>1</td><td>1</td><td>1</td><td>...</td><td>0</td><td>0</td><td>0</td><td>0</td><td>0</td><td>164</td><td> 18</td><td>141</td><td> 40</td><td> 51</td></tr>\n",
       "\t<tr><td>3330080762</td><td>1.504554e+12</td><td>2094</td><td>9</td><td>1</td><td>2</td><td>1</td><td>1</td><td>1</td><td>1</td><td>...</td><td>3</td><td>0</td><td>0</td><td>1</td><td>0</td><td> 86</td><td> 11</td><td>201</td><td>122</td><td> 18</td></tr>\n",
       "\t<tr><td>3287435705</td><td>1.501668e+12</td><td>2059</td><td>9</td><td>1</td><td>2</td><td>2</td><td>1</td><td>1</td><td>2</td><td>...</td><td>6</td><td>0</td><td>0</td><td>3</td><td>0</td><td>119</td><td>134</td><td>154</td><td> 63</td><td> 31</td></tr>\n",
       "</tbody>\n",
       "</table>\n"
      ],
      "text/latex": [
       "A tibble: 6 × 61\n",
       "\\begin{tabular}{lllllllllllllllllllll}\n",
       " gameId & creationTime & gameDuration & seasonId & winner & firstBlood & firstTower & firstInhibitor & firstBaron & firstDragon & ... & t2\\_towerKills & t2\\_inhibitorKills & t2\\_baronKills & t2\\_dragonKills & t2\\_riftHeraldKills & t2\\_ban1 & t2\\_ban2 & t2\\_ban3 & t2\\_ban4 & t2\\_ban5\\\\\n",
       " <dbl> & <dbl> & <dbl> & <dbl> & <dbl> & <dbl> & <dbl> & <dbl> & <dbl> & <dbl> & ... & <dbl> & <dbl> & <dbl> & <dbl> & <dbl> & <dbl> & <dbl> & <dbl> & <dbl> & <dbl>\\\\\n",
       "\\hline\n",
       "\t 3326086514 & 1.504279e+12 & 1949 & 9 & 1 & 2 & 1 & 1 & 1 & 1 & ... & 5 & 0 & 0 & 1 & 1 & 114 &  67 &  43 &  16 &  51\\\\\n",
       "\t 3229566029 & 1.497849e+12 & 1851 & 9 & 1 & 1 & 1 & 1 & 0 & 1 & ... & 2 & 0 & 0 & 0 & 0 &  11 &  67 & 238 &  51 & 420\\\\\n",
       "\t 3327363504 & 1.504360e+12 & 1493 & 9 & 1 & 2 & 1 & 1 & 1 & 2 & ... & 2 & 0 & 0 & 1 & 0 & 157 & 238 & 121 &  57 &  28\\\\\n",
       "\t 3326856598 & 1.504349e+12 & 1758 & 9 & 1 & 1 & 1 & 1 & 1 & 1 & ... & 0 & 0 & 0 & 0 & 0 & 164 &  18 & 141 &  40 &  51\\\\\n",
       "\t 3330080762 & 1.504554e+12 & 2094 & 9 & 1 & 2 & 1 & 1 & 1 & 1 & ... & 3 & 0 & 0 & 1 & 0 &  86 &  11 & 201 & 122 &  18\\\\\n",
       "\t 3287435705 & 1.501668e+12 & 2059 & 9 & 1 & 2 & 2 & 1 & 1 & 2 & ... & 6 & 0 & 0 & 3 & 0 & 119 & 134 & 154 &  63 &  31\\\\\n",
       "\\end{tabular}\n"
      ],
      "text/markdown": [
       "\n",
       "A tibble: 6 × 61\n",
       "\n",
       "| gameId &lt;dbl&gt; | creationTime &lt;dbl&gt; | gameDuration &lt;dbl&gt; | seasonId &lt;dbl&gt; | winner &lt;dbl&gt; | firstBlood &lt;dbl&gt; | firstTower &lt;dbl&gt; | firstInhibitor &lt;dbl&gt; | firstBaron &lt;dbl&gt; | firstDragon &lt;dbl&gt; | ... ... | t2_towerKills &lt;dbl&gt; | t2_inhibitorKills &lt;dbl&gt; | t2_baronKills &lt;dbl&gt; | t2_dragonKills &lt;dbl&gt; | t2_riftHeraldKills &lt;dbl&gt; | t2_ban1 &lt;dbl&gt; | t2_ban2 &lt;dbl&gt; | t2_ban3 &lt;dbl&gt; | t2_ban4 &lt;dbl&gt; | t2_ban5 &lt;dbl&gt; |\n",
       "|---|---|---|---|---|---|---|---|---|---|---|---|---|---|---|---|---|---|---|---|---|\n",
       "| 3326086514 | 1.504279e+12 | 1949 | 9 | 1 | 2 | 1 | 1 | 1 | 1 | ... | 5 | 0 | 0 | 1 | 1 | 114 |  67 |  43 |  16 |  51 |\n",
       "| 3229566029 | 1.497849e+12 | 1851 | 9 | 1 | 1 | 1 | 1 | 0 | 1 | ... | 2 | 0 | 0 | 0 | 0 |  11 |  67 | 238 |  51 | 420 |\n",
       "| 3327363504 | 1.504360e+12 | 1493 | 9 | 1 | 2 | 1 | 1 | 1 | 2 | ... | 2 | 0 | 0 | 1 | 0 | 157 | 238 | 121 |  57 |  28 |\n",
       "| 3326856598 | 1.504349e+12 | 1758 | 9 | 1 | 1 | 1 | 1 | 1 | 1 | ... | 0 | 0 | 0 | 0 | 0 | 164 |  18 | 141 |  40 |  51 |\n",
       "| 3330080762 | 1.504554e+12 | 2094 | 9 | 1 | 2 | 1 | 1 | 1 | 1 | ... | 3 | 0 | 0 | 1 | 0 |  86 |  11 | 201 | 122 |  18 |\n",
       "| 3287435705 | 1.501668e+12 | 2059 | 9 | 1 | 2 | 2 | 1 | 1 | 2 | ... | 6 | 0 | 0 | 3 | 0 | 119 | 134 | 154 |  63 |  31 |\n",
       "\n"
      ],
      "text/plain": [
       "  gameId     creationTime gameDuration seasonId winner firstBlood firstTower\n",
       "1 3326086514 1.504279e+12 1949         9        1      2          1         \n",
       "2 3229566029 1.497849e+12 1851         9        1      1          1         \n",
       "3 3327363504 1.504360e+12 1493         9        1      2          1         \n",
       "4 3326856598 1.504349e+12 1758         9        1      1          1         \n",
       "5 3330080762 1.504554e+12 2094         9        1      2          1         \n",
       "6 3287435705 1.501668e+12 2059         9        1      2          2         \n",
       "  firstInhibitor firstBaron firstDragon ... t2_towerKills t2_inhibitorKills\n",
       "1 1              1          1           ... 5             0                \n",
       "2 1              0          1           ... 2             0                \n",
       "3 1              1          2           ... 2             0                \n",
       "4 1              1          1           ... 0             0                \n",
       "5 1              1          1           ... 3             0                \n",
       "6 1              1          2           ... 6             0                \n",
       "  t2_baronKills t2_dragonKills t2_riftHeraldKills t2_ban1 t2_ban2 t2_ban3\n",
       "1 0             1              1                  114      67      43    \n",
       "2 0             0              0                   11      67     238    \n",
       "3 0             1              0                  157     238     121    \n",
       "4 0             0              0                  164      18     141    \n",
       "5 0             1              0                   86      11     201    \n",
       "6 0             3              0                  119     134     154    \n",
       "  t2_ban4 t2_ban5\n",
       "1  16      51    \n",
       "2  51     420    \n",
       "3  57      28    \n",
       "4  40      51    \n",
       "5 122      18    \n",
       "6  63      31    "
      ]
     },
     "metadata": {},
     "output_type": "display_data"
    }
   ],
   "source": [
    "head(data)"
   ]
  },
  {
   "cell_type": "markdown",
   "id": "0556b391",
   "metadata": {},
   "source": [
    "## EDA"
   ]
  },
  {
   "cell_type": "code",
   "execution_count": 57,
   "id": "96b2b1ab",
   "metadata": {},
   "outputs": [
    {
     "data": {
      "text/plain": [
       "     winner         firstBlood      firstTower    firstInhibitor \n",
       " Min.   :0.0000   Min.   :0.000   Min.   :0.000   Min.   :0.000  \n",
       " 1st Qu.:0.0000   1st Qu.:1.000   1st Qu.:1.000   1st Qu.:1.000  \n",
       " Median :1.0000   Median :1.000   Median :1.000   Median :1.000  \n",
       " Mean   :0.5064   Mean   :1.471   Mean   :1.451   Mean   :1.308  \n",
       " 3rd Qu.:1.0000   3rd Qu.:2.000   3rd Qu.:2.000   3rd Qu.:2.000  \n",
       " Max.   :1.0000   Max.   :2.000   Max.   :2.000   Max.   :2.000  \n",
       "   firstBaron      firstDragon    firstRiftHerald  t1_towerKills   \n",
       " Min.   :0.0000   Min.   :0.000   Min.   :0.0000   Min.   : 0.000  \n",
       " 1st Qu.:0.0000   1st Qu.:1.000   1st Qu.:0.0000   1st Qu.: 2.000  \n",
       " Median :1.0000   Median :1.000   Median :0.0000   Median : 6.000  \n",
       " Mean   :0.9265   Mean   :1.443   Mean   :0.7317   Mean   : 5.699  \n",
       " 3rd Qu.:2.0000   3rd Qu.:2.000   3rd Qu.:1.0000   3rd Qu.: 9.000  \n",
       " Max.   :2.0000   Max.   :2.000   Max.   :2.0000   Max.   :11.000  \n",
       " t1_inhibitorKills t1_baronKills    t1_dragonKills  t1_riftHeraldKills\n",
       " Min.   : 0.000    Min.   :0.0000   Min.   :0.000   Min.   :0.0000    \n",
       " 1st Qu.: 0.000    1st Qu.:0.0000   1st Qu.:0.000   1st Qu.:0.0000    \n",
       " Median : 1.000    Median :0.0000   Median :1.000   Median :0.0000    \n",
       " Mean   : 1.018    Mean   :0.3723   Mean   :1.387   Mean   :0.2515    \n",
       " 3rd Qu.: 2.000    3rd Qu.:1.0000   3rd Qu.:2.000   3rd Qu.:1.0000    \n",
       " Max.   :10.000    Max.   :5.0000   Max.   :6.000   Max.   :1.0000    \n",
       " t2_towerKills    t2_inhibitorKills t2_baronKills    t2_dragonKills \n",
       " Min.   : 0.000   Min.   : 0.0000   Min.   :0.0000   Min.   :0.000  \n",
       " 1st Qu.: 2.000   1st Qu.: 0.0000   1st Qu.:0.0000   1st Qu.:0.000  \n",
       " Median : 6.000   Median : 0.0000   Median :0.0000   Median :1.000  \n",
       " Mean   : 5.549   Mean   : 0.9851   Mean   :0.4145   Mean   :1.404  \n",
       " 3rd Qu.: 9.000   3rd Qu.: 2.0000   3rd Qu.:1.0000   3rd Qu.:2.000  \n",
       " Max.   :11.000   Max.   :10.0000   Max.   :4.0000   Max.   :6.000  \n",
       " t2_riftHeraldKills\n",
       " Min.   :0.0000    \n",
       " 1st Qu.:0.0000    \n",
       " Median :0.0000    \n",
       " Mean   :0.2401    \n",
       " 3rd Qu.:0.0000    \n",
       " Max.   :1.0000    "
      ]
     },
     "metadata": {},
     "output_type": "display_data"
    }
   ],
   "source": [
    "\n",
    "\n",
    "# df_post_start is all important data during the game, data that will make a team win\n",
    "df_post_start <- data |>\n",
    "  select(c(5, 6, 7, 8, 9, 10,11, 27, 28, 29 ,30, 31, 52, 53, 54, 55, 56))\n",
    "\n",
    "summary(df_post_start)"
   ]
  },
  {
   "cell_type": "markdown",
   "id": "24601c3d-d56b-45cb-b354-566e4651518d",
   "metadata": {},
   "source": [
    "1 indicate that team 1 wins and 0 indicate that team 2 wins"
   ]
  },
  {
   "cell_type": "code",
   "execution_count": 58,
   "id": "3247773c",
   "metadata": {},
   "outputs": [
    {
     "data": {
      "image/png": "[encoded data removed]",
      "text/plain": [
       "Plot with title \"Collinearity Heatmap of first... Post game\""
      ]
     },
     "metadata": {
      "image/png": {
       "height": 720,
       "width": 840
      }
     },
     "output_type": "display_data"
    }
   ],
   "source": [
    "options(repr.plot.width = 14, repr.plot.height = 12) \n",
    "\n",
    "correlation_matrix <- data |>\n",
    "  select(c( 5, 6, 7, 8, 9, 10, 11)) |>\n",
    "  cor()\n",
    "\n",
    "par(mar = c(1, 1, 4, 1))  \n",
    "corrplot(correlation_matrix, method = \"color\", type = \"upper\",\n",
    "         tl.col = \"black\", tl.srt = 45, addCoef.col = \"black\",\n",
    "         title = \"Collinearity Heatmap of first... Post game\", \n",
    "         mar = c(0, 0, 2, 0))"
   ]
  },
  {
   "cell_type": "code",
   "execution_count": 59,
   "id": "02b0d0e8-92a2-4e13-8722-3160190832b1",
   "metadata": {},
   "outputs": [
    {
     "data": {
      "image/png": "[encoded data removed]",
      "text/plain": [
       "Plot with title \"Collinearity Heatmap of t1 post games\""
      ]
     },
     "metadata": {
      "image/png": {
       "height": 720,
       "width": 840
      }
     },
     "output_type": "display_data"
    }
   ],
   "source": [
    "options(repr.plot.width = 14, repr.plot.height = 12) \n",
    "\n",
    "correlation_matrix_other <- data |>\n",
    "  select(c( 5, 27, 28, 29 ,30, 31)) |>\n",
    "  cor()\n",
    "\n",
    "par(mar = c(1, 1, 4, 1))  \n",
    "corrplot(correlation_matrix_other, method = \"color\", type = \"upper\",\n",
    "         tl.col = \"black\", tl.srt = 45, addCoef.col = \"black\",\n",
    "         title = \"Collinearity Heatmap of t1 post games\", \n",
    "         mar = c(0, 0, 2, 0))"
   ]
  },
  {
   "cell_type": "code",
   "execution_count": 60,
   "id": "972d3547-b0dc-48c1-9b92-02cf97f85c20",
   "metadata": {},
   "outputs": [
    {
     "data": {
      "image/png": "[encoded data removed]",
      "text/plain": [
       "Plot with title \"Collinearity Heatmap of t2 post games\""
      ]
     },
     "metadata": {
      "image/png": {
       "height": 720,
       "width": 840
      }
     },
     "output_type": "display_data"
    }
   ],
   "source": [
    "options(repr.plot.width = 14, repr.plot.height = 12) \n",
    "\n",
    "correlation_matrix_other <- data |>\n",
    "  select(c( 5, 52, 53, 54, 55, 56)) |>\n",
    "  cor()\n",
    "\n",
    "par(mar = c(1, 1, 4, 1))  \n",
    "corrplot(correlation_matrix_other, method = \"color\", type = \"upper\",\n",
    "         tl.col = \"black\", tl.srt = 45, addCoef.col = \"black\",\n",
    "         title = \"Collinearity Heatmap of t2 post games\", \n",
    "         mar = c(0, 0, 2, 0))"
   ]
  },
  {
   "cell_type": "markdown",
   "id": "99e2bd24",
   "metadata": {},
   "source": [
    "# Method\n"
   ]
  },
  {
   "cell_type": "code",
   "execution_count": 61,
   "id": "1e3d2793",
   "metadata": {},
   "outputs": [
    {
     "data": {
      "text/plain": [
       "\n",
       "Call:\n",
       "glm(formula = winner ~ ., family = binomial, data = df_post_start)\n",
       "\n",
       "Deviance Residuals: \n",
       "    Min       1Q   Median       3Q      Max  \n",
       "-4.6762  -0.0399   0.0019   0.0338   3.5673  \n",
       "\n",
       "Coefficients: (1 not defined because of singularities)\n",
       "                   Estimate Std. Error z value Pr(>|z|)    \n",
       "(Intercept)         0.03839    0.06709   0.572  0.56719    \n",
       "firstBlood         -0.11275    0.04585  -2.459  0.01392 *  \n",
       "firstTower          0.68002    0.05590  12.165  < 2e-16 ***\n",
       "firstInhibitor      0.55551    0.06423   8.649  < 2e-16 ***\n",
       "firstBaron          0.00695    0.06704   0.104  0.91744    \n",
       "firstDragon        -0.31686    0.06211  -5.102 3.37e-07 ***\n",
       "firstRiftHerald     0.29828    0.03889   7.670 1.72e-14 ***\n",
       "t1_towerKills       1.14803    0.02295  50.027  < 2e-16 ***\n",
       "t1_inhibitorKills  -0.11630    0.04070  -2.858  0.00427 ** \n",
       "t1_baronKills       0.53480    0.05964   8.967  < 2e-16 ***\n",
       "t1_dragonKills     -0.08684    0.03820  -2.273  0.02300 *  \n",
       "t1_riftHeraldKills -0.65795    0.07588  -8.671  < 2e-16 ***\n",
       "t2_towerKills      -1.36708    0.02604 -52.497  < 2e-16 ***\n",
       "t2_inhibitorKills   0.28423    0.03959   7.179 7.02e-13 ***\n",
       "t2_baronKills      -0.35627    0.07482  -4.762 1.92e-06 ***\n",
       "t2_dragonKills      0.05113    0.04270   1.197  0.23114    \n",
       "t2_riftHeraldKills       NA         NA      NA       NA    \n",
       "---\n",
       "Signif. codes:  0 '***' 0.001 '**' 0.01 '*' 0.05 '.' 0.1 ' ' 1\n",
       "\n",
       "(Dispersion parameter for binomial family taken to be 1)\n",
       "\n",
       "    Null deviance: 71372  on 51489  degrees of freedom\n",
       "Residual deviance:  9160  on 51474  degrees of freedom\n",
       "AIC: 9192\n",
       "\n",
       "Number of Fisher Scoring iterations: 9\n"
      ]
     },
     "metadata": {},
     "output_type": "display_data"
    }
   ],
   "source": [
    "baseline_model <- glm(winner ~ ., data = df_post_start, family = binomial)\n",
    "\n",
    "summary(baseline_model)\n",
    "\n"
   ]
  },
  {
   "cell_type": "markdown",
   "id": "5939c34d-9df6-46d4-a040-1ecee42a1bd5",
   "metadata": {},
   "source": [
    "## data splitting"
   ]
  },
  {
   "cell_type": "code",
   "execution_count": 62,
   "id": "8915ac7a-cd98-4ee1-89e7-a52ef00c03d1",
   "metadata": {},
   "outputs": [
    {
     "data": {
      "text/html": [
       "<table class=\"dataframe\">\n",
       "<caption>A tibble: 6 × 17</caption>\n",
       "<thead>\n",
       "\t<tr><th scope=col>winner</th><th scope=col>firstBlood</th><th scope=col>firstTower</th><th scope=col>firstInhibitor</th><th scope=col>firstBaron</th><th scope=col>firstDragon</th><th scope=col>firstRiftHerald</th><th scope=col>t1_towerKills</th><th scope=col>t1_inhibitorKills</th><th scope=col>t1_baronKills</th><th scope=col>t1_dragonKills</th><th scope=col>t1_riftHeraldKills</th><th scope=col>t2_towerKills</th><th scope=col>t2_inhibitorKills</th><th scope=col>t2_baronKills</th><th scope=col>t2_dragonKills</th><th scope=col>t2_riftHeraldKills</th></tr>\n",
       "\t<tr><th scope=col>&lt;dbl&gt;</th><th scope=col>&lt;dbl&gt;</th><th scope=col>&lt;dbl&gt;</th><th scope=col>&lt;dbl&gt;</th><th scope=col>&lt;dbl&gt;</th><th scope=col>&lt;dbl&gt;</th><th scope=col>&lt;dbl&gt;</th><th scope=col>&lt;dbl&gt;</th><th scope=col>&lt;dbl&gt;</th><th scope=col>&lt;dbl&gt;</th><th scope=col>&lt;dbl&gt;</th><th scope=col>&lt;dbl&gt;</th><th scope=col>&lt;dbl&gt;</th><th scope=col>&lt;dbl&gt;</th><th scope=col>&lt;dbl&gt;</th><th scope=col>&lt;dbl&gt;</th><th scope=col>&lt;dbl&gt;</th></tr>\n",
       "</thead>\n",
       "<tbody>\n",
       "\t<tr><td>0</td><td>2</td><td>2</td><td>2</td><td>0</td><td>2</td><td>2</td><td>0</td><td>0</td><td>0</td><td>0</td><td>0</td><td> 8</td><td>1</td><td>0</td><td>2</td><td>1</td></tr>\n",
       "\t<tr><td>0</td><td>2</td><td>2</td><td>2</td><td>2</td><td>2</td><td>2</td><td>0</td><td>0</td><td>0</td><td>1</td><td>0</td><td>10</td><td>2</td><td>1</td><td>1</td><td>1</td></tr>\n",
       "\t<tr><td>0</td><td>1</td><td>2</td><td>2</td><td>0</td><td>2</td><td>0</td><td>0</td><td>0</td><td>0</td><td>0</td><td>0</td><td>11</td><td>3</td><td>0</td><td>2</td><td>0</td></tr>\n",
       "\t<tr><td>0</td><td>1</td><td>2</td><td>2</td><td>2</td><td>1</td><td>1</td><td>4</td><td>0</td><td>0</td><td>3</td><td>1</td><td>11</td><td>2</td><td>1</td><td>1</td><td>0</td></tr>\n",
       "\t<tr><td>0</td><td>1</td><td>2</td><td>2</td><td>0</td><td>2</td><td>0</td><td>2</td><td>0</td><td>0</td><td>0</td><td>0</td><td>10</td><td>2</td><td>0</td><td>2</td><td>0</td></tr>\n",
       "\t<tr><td>0</td><td>1</td><td>2</td><td>2</td><td>2</td><td>2</td><td>2</td><td>4</td><td>0</td><td>0</td><td>1</td><td>0</td><td> 7</td><td>2</td><td>1</td><td>3</td><td>1</td></tr>\n",
       "</tbody>\n",
       "</table>\n"
      ],
      "text/latex": [
       "A tibble: 6 × 17\n",
       "\\begin{tabular}{lllllllllllllllll}\n",
       " winner & firstBlood & firstTower & firstInhibitor & firstBaron & firstDragon & firstRiftHerald & t1\\_towerKills & t1\\_inhibitorKills & t1\\_baronKills & t1\\_dragonKills & t1\\_riftHeraldKills & t2\\_towerKills & t2\\_inhibitorKills & t2\\_baronKills & t2\\_dragonKills & t2\\_riftHeraldKills\\\\\n",
       " <dbl> & <dbl> & <dbl> & <dbl> & <dbl> & <dbl> & <dbl> & <dbl> & <dbl> & <dbl> & <dbl> & <dbl> & <dbl> & <dbl> & <dbl> & <dbl> & <dbl>\\\\\n",
       "\\hline\n",
       "\t 0 & 2 & 2 & 2 & 0 & 2 & 2 & 0 & 0 & 0 & 0 & 0 &  8 & 1 & 0 & 2 & 1\\\\\n",
       "\t 0 & 2 & 2 & 2 & 2 & 2 & 2 & 0 & 0 & 0 & 1 & 0 & 10 & 2 & 1 & 1 & 1\\\\\n",
       "\t 0 & 1 & 2 & 2 & 0 & 2 & 0 & 0 & 0 & 0 & 0 & 0 & 11 & 3 & 0 & 2 & 0\\\\\n",
       "\t 0 & 1 & 2 & 2 & 2 & 1 & 1 & 4 & 0 & 0 & 3 & 1 & 11 & 2 & 1 & 1 & 0\\\\\n",
       "\t 0 & 1 & 2 & 2 & 0 & 2 & 0 & 2 & 0 & 0 & 0 & 0 & 10 & 2 & 0 & 2 & 0\\\\\n",
       "\t 0 & 1 & 2 & 2 & 2 & 2 & 2 & 4 & 0 & 0 & 1 & 0 &  7 & 2 & 1 & 3 & 1\\\\\n",
       "\\end{tabular}\n"
      ],
      "text/markdown": [
       "\n",
       "A tibble: 6 × 17\n",
       "\n",
       "| winner &lt;dbl&gt; | firstBlood &lt;dbl&gt; | firstTower &lt;dbl&gt; | firstInhibitor &lt;dbl&gt; | firstBaron &lt;dbl&gt; | firstDragon &lt;dbl&gt; | firstRiftHerald &lt;dbl&gt; | t1_towerKills &lt;dbl&gt; | t1_inhibitorKills &lt;dbl&gt; | t1_baronKills &lt;dbl&gt; | t1_dragonKills &lt;dbl&gt; | t1_riftHeraldKills &lt;dbl&gt; | t2_towerKills &lt;dbl&gt; | t2_inhibitorKills &lt;dbl&gt; | t2_baronKills &lt;dbl&gt; | t2_dragonKills &lt;dbl&gt; | t2_riftHeraldKills &lt;dbl&gt; |\n",
       "|---|---|---|---|---|---|---|---|---|---|---|---|---|---|---|---|---|\n",
       "| 0 | 2 | 2 | 2 | 0 | 2 | 2 | 0 | 0 | 0 | 0 | 0 |  8 | 1 | 0 | 2 | 1 |\n",
       "| 0 | 2 | 2 | 2 | 2 | 2 | 2 | 0 | 0 | 0 | 1 | 0 | 10 | 2 | 1 | 1 | 1 |\n",
       "| 0 | 1 | 2 | 2 | 0 | 2 | 0 | 0 | 0 | 0 | 0 | 0 | 11 | 3 | 0 | 2 | 0 |\n",
       "| 0 | 1 | 2 | 2 | 2 | 1 | 1 | 4 | 0 | 0 | 3 | 1 | 11 | 2 | 1 | 1 | 0 |\n",
       "| 0 | 1 | 2 | 2 | 0 | 2 | 0 | 2 | 0 | 0 | 0 | 0 | 10 | 2 | 0 | 2 | 0 |\n",
       "| 0 | 1 | 2 | 2 | 2 | 2 | 2 | 4 | 0 | 0 | 1 | 0 |  7 | 2 | 1 | 3 | 1 |\n",
       "\n"
      ],
      "text/plain": [
       "  winner firstBlood firstTower firstInhibitor firstBaron firstDragon\n",
       "1 0      2          2          2              0          2          \n",
       "2 0      2          2          2              2          2          \n",
       "3 0      1          2          2              0          2          \n",
       "4 0      1          2          2              2          1          \n",
       "5 0      1          2          2              0          2          \n",
       "6 0      1          2          2              2          2          \n",
       "  firstRiftHerald t1_towerKills t1_inhibitorKills t1_baronKills t1_dragonKills\n",
       "1 2               0             0                 0             0             \n",
       "2 2               0             0                 0             1             \n",
       "3 0               0             0                 0             0             \n",
       "4 1               4             0                 0             3             \n",
       "5 0               2             0                 0             0             \n",
       "6 2               4             0                 0             1             \n",
       "  t1_riftHeraldKills t2_towerKills t2_inhibitorKills t2_baronKills\n",
       "1 0                   8            1                 0            \n",
       "2 0                  10            2                 1            \n",
       "3 0                  11            3                 0            \n",
       "4 1                  11            2                 1            \n",
       "5 0                  10            2                 0            \n",
       "6 0                   7            2                 1            \n",
       "  t2_dragonKills t2_riftHeraldKills\n",
       "1 2              1                 \n",
       "2 1              1                 \n",
       "3 2              0                 \n",
       "4 1              0                 \n",
       "5 2              0                 \n",
       "6 3              1                 "
      ]
     },
     "metadata": {},
     "output_type": "display_data"
    }
   ],
   "source": [
    "set.seed(1234)\n",
    "df_selection <- initial_split(df_post_start, prob = 0.7, strata = winner)\n",
    "df_train <- training(df_selection)\n",
    "df_test <- testing(df_selection)\n",
    "\n",
    "head(df_train)"
   ]
  },
  {
   "cell_type": "markdown",
   "id": "9db28c0f-a98d-4052-82c4-1a989aa545d8",
   "metadata": {},
   "source": [
    "#### Using lasso"
   ]
  },
  {
   "cell_type": "markdown",
   "id": "d219372a-b98c-400c-b6b3-ac1778ff4780",
   "metadata": {},
   "source": [
    "Splitting the training set into a design matrix and the y vector for cross validation "
   ]
  },
  {
   "cell_type": "code",
   "execution_count": 63,
   "id": "7b341e93",
   "metadata": {},
   "outputs": [],
   "source": [
    "set.seed(1234)\n",
    "model_matrix_X_train <- model.matrix(~ . - 1, data = df_train[, -1])\n",
    "\n",
    "matrix_Y_train <- \n",
    "    as.matrix(df_train$winner, ncol = 1)"
   ]
  },
  {
   "cell_type": "code",
   "execution_count": 64,
   "id": "5e807cc6-05f6-4a9f-bd59-08c8cac1018e",
   "metadata": {},
   "outputs": [
    {
     "data": {
      "text/plain": [
       "\n",
       "Call:  cv.glmnet(x = model_matrix_X_train, y = matrix_Y_train, type.measure = \"auc\",      nfolds = 10, alpha = 1, family = \"binomial\") \n",
       "\n",
       "Measure: AUC \n",
       "\n",
       "      Lambda Index Measure        SE Nonzero\n",
       "min 0.000145    86  0.9951 0.0002393      14\n",
       "1se 0.002593    55  0.9949 0.0002343       9"
      ]
     },
     "metadata": {},
     "output_type": "display_data"
    }
   ],
   "source": [
    "set.seed(1234) # do not change this!\n",
    "\n",
    "lol_lambda_LASSO <- \n",
    "  cv.glmnet(\n",
    "  x = model_matrix_X_train, y = matrix_Y_train,\n",
    "  alpha = 1,\n",
    "  family = \"binomial\",\n",
    "  type.measure = \"auc\",\n",
    "  nfolds = 10)\n",
    "\n",
    "lol_lambda_LASSO"
   ]
  },
  {
   "cell_type": "code",
   "execution_count": 65,
   "id": "ffcb29a0-d8be-46d6-af93-019b4bf17770",
   "metadata": {},
   "outputs": [
    {
     "data": {
      "image/png": "[encoded data removed]",
      "text/plain": [
       "Plot with title \"Cross-Validation with LASSO\n",
       "\n",
       "\""
      ]
     },
     "metadata": {
      "image/png": {
       "height": 720,
       "width": 840
      }
     },
     "output_type": "display_data"
    }
   ],
   "source": [
    "plot(lol_lambda_LASSO, main = \"Cross-Validation with LASSO\\n\\n\")"
   ]
  },
  {
   "cell_type": "code",
   "execution_count": 66,
   "id": "6954aa1c-c89b-4cc3-91c1-53d787e14beb",
   "metadata": {},
   "outputs": [
    {
     "data": {
      "text/html": [
       "1e-04"
      ],
      "text/latex": [
       "1e-04"
      ],
      "text/markdown": [
       "1e-04"
      ],
      "text/plain": [
       "[1] 1e-04"
      ]
     },
     "metadata": {},
     "output_type": "display_data"
    }
   ],
   "source": [
    "lol_lambda_min_AUC_LASSO <- round(lol_lambda_LASSO$lambda.min, 4)\n",
    "\n",
    "lol_lambda_min_AUC_LASSO"
   ]
  },
  {
   "cell_type": "code",
   "execution_count": 67,
   "id": "bb1174e6-b9c0-4e47-a931-0af7f6e00788",
   "metadata": {},
   "outputs": [
    {
     "data": {
      "text/plain": [
       "17 x 1 sparse Matrix of class \"dgCMatrix\"\n",
       "                            s0\n",
       "(Intercept)         0.05763505\n",
       "firstBlood         -0.10076660\n",
       "firstTower          0.66567041\n",
       "firstInhibitor      0.55834254\n",
       "firstBaron          .         \n",
       "firstDragon        -0.28349114\n",
       "firstRiftHerald     .         \n",
       "t1_towerKills       1.10790400\n",
       "t1_inhibitorKills  -0.11386982\n",
       "t1_baronKills       0.56191053\n",
       "t1_dragonKills     -0.04271016\n",
       "t1_riftHeraldKills -0.34243109\n",
       "t2_towerKills      -1.34210480\n",
       "t2_inhibitorKills   0.20982243\n",
       "t2_baronKills      -0.29686643\n",
       "t2_dragonKills      0.04843969\n",
       "t2_riftHeraldKills  0.50577869"
      ]
     },
     "metadata": {},
     "output_type": "display_data"
    }
   ],
   "source": [
    "set.seed(1234) \n",
    "\n",
    "lol_LASSO_min_AUC <- glmnet(\n",
    "  x = model_matrix_X_train, y = matrix_Y_train,\n",
    "  alpha = 1,\n",
    "  family = \"binomial\",\n",
    "  lambda = lol_lambda_min_AUC_LASSO\n",
    ")\n",
    "\n",
    "\n",
    "coef(lol_LASSO_min_AUC)"
   ]
  },
  {
   "cell_type": "code",
   "execution_count": 68,
   "id": "f8e464df-6a84-4869-b4cf-e95bb0e4135a",
   "metadata": {},
   "outputs": [
    {
     "data": {
      "text/html": [
       "0.995134462112041"
      ],
      "text/latex": [
       "0.995134462112041"
      ],
      "text/markdown": [
       "0.995134462112041"
      ],
      "text/plain": [
       "[1] 0.9951345"
      ]
     },
     "metadata": {},
     "output_type": "display_data"
    }
   ],
   "source": [
    "best_auc_lasso <- lol_lambda_LASSO$cvm[which(lol_lambda_LASSO$lambda == lol_lambda_LASSO$lambda.min)]\n",
    "\n",
    "best_auc_lasso"
   ]
  },
  {
   "cell_type": "markdown",
   "id": "56a6c3c1-f5c1-4dc9-be17-271ea0bcb04e",
   "metadata": {},
   "source": [
    "#### Using ridge"
   ]
  },
  {
   "cell_type": "code",
   "execution_count": 69,
   "id": "40a0c1a7-6af7-4529-870b-4e0fce54364d",
   "metadata": {},
   "outputs": [
    {
     "data": {
      "text/plain": [
       "\n",
       "Call:  cv.glmnet(x = model_matrix_X_train, y = matrix_Y_train, type.measure = \"auc\",      nfolds = 10, alpha = 0, family = \"binomial\") \n",
       "\n",
       "Measure: AUC \n",
       "\n",
       "     Lambda Index Measure        SE Nonzero\n",
       "min 0.03941   100  0.9897 0.0002727      16\n",
       "1se 0.04325    99  0.9895 0.0002751      16"
      ]
     },
     "metadata": {},
     "output_type": "display_data"
    }
   ],
   "source": [
    "set.seed(1234) # do not change this!\n",
    "\n",
    "lol_lambda_Ridge <- \n",
    "  cv.glmnet(\n",
    "  x = model_matrix_X_train, y = matrix_Y_train,\n",
    "  alpha = 0,\n",
    "  family = \"binomial\",\n",
    "  type.measure = \"auc\",\n",
    "  nfolds = 10)\n",
    "\n",
    "lol_lambda_Ridge"
   ]
  },
  {
   "cell_type": "code",
   "execution_count": 70,
   "id": "d662bf7e-bb7b-4d3c-83e2-6eb894f74649",
   "metadata": {},
   "outputs": [
    {
     "data": {
      "image/png": "[encoded data removed]",
      "text/plain": [
       "Plot with title \"Cross-Validation with Ridge Regression\n",
       "\n",
       "\""
      ]
     },
     "metadata": {
      "image/png": {
       "height": 720,
       "width": 840
      }
     },
     "output_type": "display_data"
    }
   ],
   "source": [
    "plot(lol_lambda_Ridge, \n",
    "     main = \"Cross-Validation with Ridge Regression\\n\\n\")"
   ]
  },
  {
   "cell_type": "code",
   "execution_count": 71,
   "id": "276db14f-7b8e-4ff4-b6fc-1b5cc7ec251b",
   "metadata": {},
   "outputs": [
    {
     "data": {
      "text/html": [
       "0.0394"
      ],
      "text/latex": [
       "0.0394"
      ],
      "text/markdown": [
       "0.0394"
      ],
      "text/plain": [
       "[1] 0.0394"
      ]
     },
     "metadata": {},
     "output_type": "display_data"
    }
   ],
   "source": [
    "lol_lambda_max_AUC_ridge <- round(lol_lambda_Ridge$lambda.min, 4)\n",
    "\n",
    "lol_lambda_max_AUC_ridge"
   ]
  },
  {
   "cell_type": "code",
   "execution_count": 72,
   "id": "7e867e29-fc72-4141-8080-a60e1fa11976",
   "metadata": {},
   "outputs": [
    {
     "data": {
      "text/plain": [
       "17 x 1 sparse Matrix of class \"dgCMatrix\"\n",
       "                            s0\n",
       "(Intercept)         0.45740790\n",
       "firstBlood         -0.12714799\n",
       "firstTower         -0.12561951\n",
       "firstInhibitor     -0.23770290\n",
       "firstBaron         -0.07648706\n",
       "firstDragon        -0.03276940\n",
       "firstRiftHerald     0.00590585\n",
       "t1_towerKills       0.27714644\n",
       "t1_inhibitorKills   0.41203971\n",
       "t1_baronKills       0.46283864\n",
       "t1_dragonKills      0.17922355\n",
       "t1_riftHeraldKills  0.08444423\n",
       "t2_towerKills      -0.24683051\n",
       "t2_inhibitorKills  -0.39230472\n",
       "t2_baronKills      -0.38170090\n",
       "t2_dragonKills     -0.13792907\n",
       "t2_riftHeraldKills -0.03258958"
      ]
     },
     "metadata": {},
     "output_type": "display_data"
    }
   ],
   "source": [
    "set.seed(1234) \n",
    "\n",
    "lol_ridge_max_AUC <- \n",
    "  glmnet(\n",
    "  x = model_matrix_X_train, y = matrix_Y_train,\n",
    "  alpha = 0,\n",
    "  family = \"binomial\",\n",
    "  lambda = lol_lambda_max_AUC_ridge\n",
    ")\n",
    "\n",
    "\n",
    "coef(lol_ridge_max_AUC)"
   ]
  },
  {
   "cell_type": "code",
   "execution_count": 73,
   "id": "522893da-bd04-462e-9290-035ba002c0b3",
   "metadata": {},
   "outputs": [
    {
     "data": {
      "text/html": [
       "0.989683742439958"
      ],
      "text/latex": [
       "0.989683742439958"
      ],
      "text/markdown": [
       "0.989683742439958"
      ],
      "text/plain": [
       "[1] 0.9896837"
      ]
     },
     "metadata": {},
     "output_type": "display_data"
    }
   ],
   "source": [
    "best_auc_ridge <- lol_lambda_Ridge$cvm[which(lol_lambda_Ridge$lambda == lol_lambda_Ridge$lambda.min)]\n",
    "\n",
    "best_auc_ridge"
   ]
  },
  {
   "cell_type": "markdown",
   "id": "e2f5235e-7208-4241-bb79-5c762ba07b10",
   "metadata": {},
   "source": [
    "#### CV on baseline"
   ]
  },
  {
   "cell_type": "code",
   "execution_count": 74,
   "id": "08195719-0cbe-4fbe-940e-5a02f6a172a4",
   "metadata": {},
   "outputs": [
    {
     "name": "stderr",
     "output_type": "stream",
     "text": [
      "Warning message in predict.lm(object, newdata, se.fit, scale = 1, type = if (type == :\n",
      "\"prediction from a rank-deficient fit may be misleading\"\n",
      "Setting levels: control = 0, case = 1\n",
      "\n",
      "Setting direction: controls < cases\n",
      "\n",
      "Warning message in predict.lm(object, newdata, se.fit, scale = 1, type = if (type == :\n",
      "\"prediction from a rank-deficient fit may be misleading\"\n",
      "Setting levels: control = 0, case = 1\n",
      "\n",
      "Setting direction: controls < cases\n",
      "\n",
      "Warning message in predict.lm(object, newdata, se.fit, scale = 1, type = if (type == :\n",
      "\"prediction from a rank-deficient fit may be misleading\"\n",
      "Setting levels: control = 0, case = 1\n",
      "\n",
      "Setting direction: controls < cases\n",
      "\n",
      "Warning message in predict.lm(object, newdata, se.fit, scale = 1, type = if (type == :\n",
      "\"prediction from a rank-deficient fit may be misleading\"\n",
      "Setting levels: control = 0, case = 1\n",
      "\n",
      "Setting direction: controls < cases\n",
      "\n",
      "Warning message in predict.lm(object, newdata, se.fit, scale = 1, type = if (type == :\n",
      "\"prediction from a rank-deficient fit may be misleading\"\n",
      "Setting levels: control = 0, case = 1\n",
      "\n",
      "Setting direction: controls < cases\n",
      "\n",
      "Warning message in predict.lm(object, newdata, se.fit, scale = 1, type = if (type == :\n",
      "\"prediction from a rank-deficient fit may be misleading\"\n",
      "Setting levels: control = 0, case = 1\n",
      "\n",
      "Setting direction: controls < cases\n",
      "\n",
      "Warning message in predict.lm(object, newdata, se.fit, scale = 1, type = if (type == :\n",
      "\"prediction from a rank-deficient fit may be misleading\"\n",
      "Setting levels: control = 0, case = 1\n",
      "\n",
      "Setting direction: controls < cases\n",
      "\n",
      "Warning message in predict.lm(object, newdata, se.fit, scale = 1, type = if (type == :\n",
      "\"prediction from a rank-deficient fit may be misleading\"\n",
      "Setting levels: control = 0, case = 1\n",
      "\n",
      "Setting direction: controls < cases\n",
      "\n",
      "Warning message in predict.lm(object, newdata, se.fit, scale = 1, type = if (type == :\n",
      "\"prediction from a rank-deficient fit may be misleading\"\n",
      "Setting levels: control = 0, case = 1\n",
      "\n",
      "Setting direction: controls < cases\n",
      "\n",
      "Warning message in predict.lm(object, newdata, se.fit, scale = 1, type = if (type == :\n",
      "\"prediction from a rank-deficient fit may be misleading\"\n",
      "Setting levels: control = 0, case = 1\n",
      "\n",
      "Setting direction: controls < cases\n",
      "\n"
     ]
    },
    {
     "name": "stdout",
     "output_type": "stream",
     "text": [
      "Cross-validation AUC for the ordinary logistic model: 0.9951462"
     ]
    }
   ],
   "source": [
    "set.seed(1234)\n",
    "num.folds <- 10\n",
    "\n",
    "folds <- createFolds(df_train$winner, k=num.folds)\n",
    "\n",
    "regr.cv <- NULL\n",
    "for (fold in 1:num.folds) {\n",
    "train.idx <- setdiff(1:nrow(df_train), folds[[fold]])\n",
    "regr.cv[[fold]] <- glm(winner ~ ., data=df_train, subset=train.idx,\n",
    "                       family=\"binomial\")\n",
    "    }\n",
    "\n",
    "pred.cv <- NULL\n",
    "auc.cv <- numeric(num.folds) \n",
    "\n",
    "for (fold in 1:num.folds) {\n",
    "test.idx <- folds[[fold]]\n",
    "pred.cv[[fold]] <- data.frame(obs=df_train$winner[test.idx],\n",
    "pred=predict(regr.cv[[fold]], newdata=df_train, type=\"response\")[test.idx])\n",
    "auc.cv[fold] <- roc(obs ~ pred, data=pred.cv[[fold]])$auc\n",
    "    }\n",
    "\n",
    "lol_cv_baseline <- round(mean(auc.cv),7)\n",
    "\n",
    "cat(\"Cross-validation AUC for the ordinary logistic model:\", \n",
    "lol_cv_baseline)"
   ]
  },
  {
   "cell_type": "markdown",
   "id": "d8054043-3cb5-44f9-aaa8-f071c9b72ba6",
   "metadata": {},
   "source": [
    "#### forward selection"
   ]
  },
  {
   "cell_type": "code",
   "execution_count": 75,
   "id": "eb91206c-be45-4bc2-aa8c-5193c92ad41b",
   "metadata": {},
   "outputs": [
    {
     "name": "stderr",
     "output_type": "stream",
     "text": [
      "Warning message in leaps.setup(x, y, wt = wt, nbest = nbest, nvmax = nvmax, force.in = force.in, :\n",
      "\"1  linear dependencies found\"\n",
      "Warning message in leaps.setup(x, y, wt = wt, nbest = nbest, nvmax = nvmax, force.in = force.in, :\n",
      "\"nvmax reduced to  15\"\n",
      "Warning message in rval$lopt[] <- rval$vorder[rval$lopt]:\n",
      "\"number of items to replace is not a multiple of replacement length\"\n"
     ]
    },
    {
     "data": {
      "text/html": [
       "11"
      ],
      "text/latex": [
       "11"
      ],
      "text/markdown": [
       "11"
      ],
      "text/plain": [
       "[1] 11"
      ]
     },
     "metadata": {},
     "output_type": "display_data"
    },
    {
     "data": {
      "text/html": [
       "<style>\n",
       ".list-inline {list-style: none; margin:0; padding: 0}\n",
       ".list-inline>li {display: inline-block}\n",
       ".list-inline>li:not(:last-child)::after {content: \"\\00b7\"; padding: 0 .5ex}\n",
       "</style>\n",
       "<ol class=list-inline><li>'firstTower'</li><li>'firstInhibitor'</li><li>'firstBaron'</li><li>'t1_towerKills'</li><li>'t1_baronKills'</li><li>'t1_dragonKills'</li><li>'t1_riftHeraldKills'</li><li>'t2_towerKills'</li><li>'t2_inhibitorKills'</li><li>'t2_baronKills'</li><li>'t2_riftHeraldKills'</li></ol>\n"
      ],
      "text/latex": [
       "\\begin{enumerate*}\n",
       "\\item 'firstTower'\n",
       "\\item 'firstInhibitor'\n",
       "\\item 'firstBaron'\n",
       "\\item 't1\\_towerKills'\n",
       "\\item 't1\\_baronKills'\n",
       "\\item 't1\\_dragonKills'\n",
       "\\item 't1\\_riftHeraldKills'\n",
       "\\item 't2\\_towerKills'\n",
       "\\item 't2\\_inhibitorKills'\n",
       "\\item 't2\\_baronKills'\n",
       "\\item 't2\\_riftHeraldKills'\n",
       "\\end{enumerate*}\n"
      ],
      "text/markdown": [
       "1. 'firstTower'\n",
       "2. 'firstInhibitor'\n",
       "3. 'firstBaron'\n",
       "4. 't1_towerKills'\n",
       "5. 't1_baronKills'\n",
       "6. 't1_dragonKills'\n",
       "7. 't1_riftHeraldKills'\n",
       "8. 't2_towerKills'\n",
       "9. 't2_inhibitorKills'\n",
       "10. 't2_baronKills'\n",
       "11. 't2_riftHeraldKills'\n",
       "\n",
       "\n"
      ],
      "text/plain": [
       " [1] \"firstTower\"         \"firstInhibitor\"     \"firstBaron\"        \n",
       " [4] \"t1_towerKills\"      \"t1_baronKills\"      \"t1_dragonKills\"    \n",
       " [7] \"t1_riftHeraldKills\" \"t2_towerKills\"      \"t2_inhibitorKills\" \n",
       "[10] \"t2_baronKills\"      \"t2_riftHeraldKills\""
      ]
     },
     "metadata": {},
     "output_type": "display_data"
    }
   ],
   "source": [
    "set.seed(1234)\n",
    "\n",
    "# Perform forward selection using regsubsets\n",
    "regfit_fwd <- regsubsets(winner ~ ., data = df_train, nvmax = NULL, method = \"forward\")\n",
    "\n",
    "# Summary of the model\n",
    "reg_summary <- summary(regfit_fwd)\n",
    "\n",
    "# Get the model with the lowest BIC\n",
    "best_model <- which.min(reg_summary$bic)\n",
    "best_model\n",
    "\n",
    "# Extract the selected predictors\n",
    "selected_predictors <- names(coef(regfit_fwd, best_model))\n",
    "selected_predictors <- selected_predictors[-1]  # Remove intercept\n",
    "selected_predictors"
   ]
  },
  {
   "cell_type": "code",
   "execution_count": 79,
   "id": "d3894505-aa9b-4ead-b7cc-09fc63684084",
   "metadata": {},
   "outputs": [
    {
     "name": "stderr",
     "output_type": "stream",
     "text": [
      "Setting levels: control = 0, case = 1\n",
      "\n",
      "Setting direction: controls < cases\n",
      "\n",
      "Setting levels: control = 0, case = 1\n",
      "\n",
      "Setting direction: controls < cases\n",
      "\n",
      "Setting levels: control = 0, case = 1\n",
      "\n",
      "Setting direction: controls < cases\n",
      "\n",
      "Setting levels: control = 0, case = 1\n",
      "\n",
      "Setting direction: controls < cases\n",
      "\n",
      "Setting levels: control = 0, case = 1\n",
      "\n",
      "Setting direction: controls < cases\n",
      "\n",
      "Setting levels: control = 0, case = 1\n",
      "\n",
      "Setting direction: controls < cases\n",
      "\n",
      "Setting levels: control = 0, case = 1\n",
      "\n",
      "Setting direction: controls < cases\n",
      "\n",
      "Setting levels: control = 0, case = 1\n",
      "\n",
      "Setting direction: controls < cases\n",
      "\n",
      "Setting levels: control = 0, case = 1\n",
      "\n",
      "Setting direction: controls < cases\n",
      "\n",
      "Setting levels: control = 0, case = 1\n",
      "\n",
      "Setting direction: controls < cases\n",
      "\n"
     ]
    },
    {
     "name": "stdout",
     "output_type": "stream",
     "text": [
      "Cross-validation AUC for the forward selection logistic model: 0.9950678"
     ]
    }
   ],
   "source": [
    "set.seed(1234)\n",
    "num.folds <- 10\n",
    "\n",
    "folds <- createFolds(df_train$winner, k=num.folds)\n",
    "\n",
    "regr.cv <- NULL\n",
    "for (fold in 1:num.folds) {\n",
    "train.idx <- setdiff(1:nrow(df_train), folds[[fold]])\n",
    "regr.cv[[fold]] <- glm(winner ~ firstTower+ firstInhibitor+ firstBaron+ t1_towerKills+ t1_baronKills+t1_dragonKills+t1_riftHeraldKills+t2_towerKills+t2_baronKills+t2_inhibitorKills +t2_riftHeraldKills, data=df_train, subset=train.idx,\n",
    "                       family=\"binomial\")\n",
    "    }\n",
    "\n",
    "pred.cv <- NULL\n",
    "auc.cv <- numeric(num.folds) \n",
    "\n",
    "for (fold in 1:num.folds) {\n",
    "test.idx <- folds[[fold]]\n",
    "pred.cv[[fold]] <- data.frame(obs=df_train$winner[test.idx],\n",
    "pred=predict(regr.cv[[fold]], newdata=df_train, type=\"response\")[test.idx])\n",
    "auc.cv[fold] <- roc(obs ~ pred, data=pred.cv[[fold]])$auc\n",
    "    }\n",
    "\n",
    "lol_cv_forward <- round(mean(auc.cv),7)\n",
    "\n",
    "cat(\"Cross-validation AUC for the forward selection logistic model:\", \n",
    "lol_cv_forward)"
   ]
  },
  {
   "cell_type": "markdown",
   "id": "b7ab6697-6e9a-4beb-a94c-f0d578742653",
   "metadata": {},
   "source": [
    "# Comparison"
   ]
  },
  {
   "cell_type": "code",
   "execution_count": 80,
   "id": "a13416da-7232-40bd-9f6a-d3e99d8bfe8d",
   "metadata": {},
   "outputs": [
    {
     "data": {
      "text/html": [
       "<table class=\"dataframe\">\n",
       "<caption>A tibble: 4 × 2</caption>\n",
       "<thead>\n",
       "\t<tr><th scope=col>model</th><th scope=col>auc</th></tr>\n",
       "\t<tr><th scope=col>&lt;chr&gt;</th><th scope=col>&lt;dbl&gt;</th></tr>\n",
       "</thead>\n",
       "<tbody>\n",
       "\t<tr><td>baseline</td><td>0.9951462</td></tr>\n",
       "\t<tr><td>ridge   </td><td>0.9896837</td></tr>\n",
       "\t<tr><td>lasso   </td><td>0.9951345</td></tr>\n",
       "\t<tr><td>forward </td><td>0.9950678</td></tr>\n",
       "</tbody>\n",
       "</table>\n"
      ],
      "text/latex": [
       "A tibble: 4 × 2\n",
       "\\begin{tabular}{ll}\n",
       " model & auc\\\\\n",
       " <chr> & <dbl>\\\\\n",
       "\\hline\n",
       "\t baseline & 0.9951462\\\\\n",
       "\t ridge    & 0.9896837\\\\\n",
       "\t lasso    & 0.9951345\\\\\n",
       "\t forward  & 0.9950678\\\\\n",
       "\\end{tabular}\n"
      ],
      "text/markdown": [
       "\n",
       "A tibble: 4 × 2\n",
       "\n",
       "| model &lt;chr&gt; | auc &lt;dbl&gt; |\n",
       "|---|---|\n",
       "| baseline | 0.9951462 |\n",
       "| ridge    | 0.9896837 |\n",
       "| lasso    | 0.9951345 |\n",
       "| forward  | 0.9950678 |\n",
       "\n"
      ],
      "text/plain": [
       "  model    auc      \n",
       "1 baseline 0.9951462\n",
       "2 ridge    0.9896837\n",
       "3 lasso    0.9951345\n",
       "4 forward  0.9950678"
      ]
     },
     "metadata": {},
     "output_type": "display_data"
    }
   ],
   "source": [
    "lol_AUC_models <- \n",
    "    tibble(\n",
    "        model = c(\"baseline\", \"ridge\", \"lasso\", \"forward\"),\n",
    "        auc = c(lol_cv_baseline,best_auc_ridge, best_auc_lasso, lol_cv_forward))\n",
    "\n",
    "lol_AUC_models"
   ]
  },
  {
   "cell_type": "markdown",
   "id": "995b2214-7606-49f2-9160-7d570d168553",
   "metadata": {},
   "source": [
    "# Evaluation"
   ]
  },
  {
   "cell_type": "code",
   "execution_count": 99,
   "id": "97cde137-e2b9-4260-8a04-5e83ab60f735",
   "metadata": {},
   "outputs": [
    {
     "name": "stderr",
     "output_type": "stream",
     "text": [
      "Setting levels: control = 0, case = 1\n",
      "\n",
      "Setting direction: controls < cases\n",
      "\n"
     ]
    },
    {
     "data": {
      "text/plain": [
       "\n",
       "Call:\n",
       "roc.default(response = df_test$winner, predictor = predict(lol_LASSO_min_AUC,     newx = model_matrix_X_test)[, \"s0\"])\n",
       "\n",
       "Data: predict(lol_LASSO_min_AUC, newx = model_matrix_X_test)[, \"s0\"] in 6354 controls (df_test$winner 0) < 6520 cases (df_test$winner 1).\n",
       "Area under the curve: 0.9949"
      ]
     },
     "metadata": {},
     "output_type": "display_data"
    }
   ],
   "source": [
    "set.seed(1234)\n",
    "model_matrix_X_test <- \n",
    "    model.matrix(~ . - 1, data = df_test[, -1])\n",
    "\n",
    "ROC <- \n",
    "    roc(\n",
    "        response = df_test$winner,\n",
    "        predictor = predict(lol_LASSO_min_AUC,\n",
    "                     newx = model_matrix_X_test)[,\"s0\"] ) \n",
    "\n",
    "\n",
    "ROC"
   ]
  },
  {
   "cell_type": "code",
   "execution_count": 100,
   "id": "3adaaf0c-7db1-4434-8f89-81a526830c5f",
   "metadata": {},
   "outputs": [
    {
     "data": {
      "image/png": "[encoded data removed]",
      "text/plain": [
       "Plot with title \"ROC Curves for LOL Dataset\""
      ]
     },
     "metadata": {
      "image/png": {
       "height": 720,
       "width": 840
      }
     },
     "output_type": "display_data"
    }
   ],
   "source": [
    "plot(ROC,\n",
    "  print.auc = TRUE, col = \"blue\", lwd = 3, lty = 2,\n",
    "  main = \"ROC Curves for LOL Dataset\"\n",
    ")"
   ]
  },
  {
   "cell_type": "code",
   "execution_count": 101,
   "id": "2ca55f8a-0293-4a3b-97e9-df6d3b7d8bca",
   "metadata": {},
   "outputs": [],
   "source": [
    "saveRDS(lol_LASSO_min_AUC, \"lol_LASSO_min_AUC.rds\")"
   ]
  },
  {
   "cell_type": "code",
   "execution_count": 103,
   "id": "117c4166-ce8a-4284-8bf7-187ecf961696",
   "metadata": {},
   "outputs": [
    {
     "name": "stderr",
     "output_type": "stream",
     "text": [
      "also installing the dependencies 'rprojroot', 'RcppTOML', 'here', 'png'\n",
      "\n",
      "\n"
     ]
    },
    {
     "name": "stdout",
     "output_type": "stream",
     "text": [
      "\n",
      "  There are binary versions available but the source versions are later:\n",
      "           binary source needs_compilation\n",
      "rprojroot   2.0.3  2.0.4             FALSE\n",
      "reticulate   1.28 1.39.0              TRUE\n",
      "\n",
      "  Binaries will be installed\n",
      "package 'RcppTOML' successfully unpacked and MD5 sums checked\n",
      "package 'here' successfully unpacked and MD5 sums checked\n",
      "package 'png' successfully unpacked and MD5 sums checked\n",
      "package 'reticulate' successfully unpacked and MD5 sums checked\n",
      "\n",
      "The downloaded binary packages are in\n",
      "\tC:\\Users\\linh0\\AppData\\Local\\Temp\\Rtmp8O6oOI\\downloaded_packages\n"
     ]
    },
    {
     "name": "stderr",
     "output_type": "stream",
     "text": [
      "installing the source package 'rprojroot'\n",
      "\n",
      "\n"
     ]
    }
   ],
   "source": [
    "install.packages(\"reticulate\")"
   ]
  },
  {
   "cell_type": "code",
   "execution_count": 107,
   "id": "7a3a6fd0-7a5f-49ec-8a1f-9d2b4a681c57",
   "metadata": {
    "scrolled": true
   },
   "outputs": [
    {
     "name": "stdout",
     "output_type": "stream",
     "text": [
      "16 x 1 sparse Matrix of class \"dgCMatrix\"\n",
      "                            s0\n",
      "firstBlood         -0.10076660\n",
      "firstTower          0.66567041\n",
      "firstInhibitor      0.55834254\n",
      "firstBaron          .         \n",
      "firstDragon        -0.28349114\n",
      "firstRiftHerald     .         \n",
      "t1_towerKills       1.10790400\n",
      "t1_inhibitorKills  -0.11386982\n",
      "t1_baronKills       0.56191053\n",
      "t1_dragonKills     -0.04271016\n",
      "t1_riftHeraldKills -0.34243109\n",
      "t2_towerKills      -1.34210480\n",
      "t2_inhibitorKills   0.20982243\n",
      "t2_baronKills      -0.29686643\n",
      "t2_dragonKills      0.04843969\n",
      "t2_riftHeraldKills  0.50577869\n"
     ]
    },
    {
     "ename": "ERROR",
     "evalue": "Error in eval(expr, envir, enclos): Unable to convert R object to Python type\n",
     "output_type": "error",
     "traceback": [
      "Error in eval(expr, envir, enclos): Unable to convert R object to Python type\nTraceback:\n",
      "1. py_save_object(lol_LASSO_min_AUC, \"lol_LASSO_min_AUC.pkl\")",
      "2. pickle$dump(object, handle, protocol = pickle$HIGHEST_PROTOCOL, \n .     ...)",
      "3. py_call_impl(callable, dots$args, dots$keywords)",
      "4. (function (x, convert = FALSE) \n . {\n .     ensure_python_initialized()\n .     UseMethod(\"r_to_py\")\n . })(structure(list(a0 = c(s0 = 0.0576350456406812), beta = new(\"dgCMatrix\", \n .     i = c(0L, 1L, 2L, 4L, 6L, 7L, 8L, 9L, 10L, 11L, 12L, 13L, \n .     14L, 15L), p = c(0L, 14L), Dim = c(16L, 1L), Dimnames = list(\n .         c(\"firstBlood\", \"firstTower\", \"firstInhibitor\", \"firstBaron\", \n .         \"firstDragon\", \"firstRiftHerald\", \"t1_towerKills\", \"t1_inhibitorKills\", \n .         \"t1_baronKills\", \"t1_dragonKills\", \"t1_riftHeraldKills\", \n .         \"t2_towerKills\", \"t2_inhibitorKills\", \"t2_baronKills\", \n .         \"t2_dragonKills\", \"t2_riftHeraldKills\"), \"s0\"), x = c(-0.100766599059357, \n .     0.665670412904375, 0.558342541351791, -0.283491144091606, \n .     1.107904000199, -0.113869824964529, 0.561910529487499, -0.0427101634408465, \n .     -0.342431094856269, -1.34210479849289, 0.209822433388669, \n .     -0.296866434448762, 0.0484396933971924, 0.505778690501316\n .     ), factors = list()), df = 14L, dim = c(16L, 1L), lambda = 1e-04, \n .     dev.ratio = 0.872344718791076, nulldev = 53526.7205589803, \n .     npasses = 737L, jerr = 0L, offset = FALSE, classnames = c(\"0\", \n .     \"1\"), call = glmnet(x = model_matrix_X_train, y = matrix_Y_train, \n .         family = \"binomial\", alpha = 1, lambda = lol_lambda_min_AUC_LASSO), \n .     nobs = 38616L), class = c(\"lognet\", \"glmnet\")), TRUE)",
      "5. r_to_py.default(structure(list(a0 = c(s0 = 0.0576350456406812), \n .     beta = new(\"dgCMatrix\", i = c(0L, 1L, 2L, 4L, 6L, 7L, 8L, \n .     9L, 10L, 11L, 12L, 13L, 14L, 15L), p = c(0L, 14L), Dim = c(16L, \n .     1L), Dimnames = list(c(\"firstBlood\", \"firstTower\", \"firstInhibitor\", \n .     \"firstBaron\", \"firstDragon\", \"firstRiftHerald\", \"t1_towerKills\", \n .     \"t1_inhibitorKills\", \"t1_baronKills\", \"t1_dragonKills\", \"t1_riftHeraldKills\", \n .     \"t2_towerKills\", \"t2_inhibitorKills\", \"t2_baronKills\", \"t2_dragonKills\", \n .     \"t2_riftHeraldKills\"), \"s0\"), x = c(-0.100766599059357, 0.665670412904375, \n .     0.558342541351791, -0.283491144091606, 1.107904000199, -0.113869824964529, \n .     0.561910529487499, -0.0427101634408465, -0.342431094856269, \n .     -1.34210479849289, 0.209822433388669, -0.296866434448762, \n .     0.0484396933971924, 0.505778690501316), factors = list()), \n .     df = 14L, dim = c(16L, 1L), lambda = 1e-04, dev.ratio = 0.872344718791076, \n .     nulldev = 53526.7205589803, npasses = 737L, jerr = 0L, offset = FALSE, \n .     classnames = c(\"0\", \"1\"), call = glmnet(x = model_matrix_X_train, \n .         y = matrix_Y_train, family = \"binomial\", alpha = 1, lambda = lol_lambda_min_AUC_LASSO), \n .     nobs = 38616L), class = c(\"lognet\", \"glmnet\")), TRUE)",
      "6. r_to_py_impl(x, convert = convert)",
      "7. (function (x, convert = FALSE) \n . {\n .     ensure_python_initialized()\n .     UseMethod(\"r_to_py\")\n . })(new(\"dgCMatrix\", i = c(0L, 1L, 2L, 4L, 6L, 7L, 8L, 9L, 10L, \n . 11L, 12L, 13L, 14L, 15L), p = c(0L, 14L), Dim = c(16L, 1L), Dimnames = list(\n .     c(\"firstBlood\", \"firstTower\", \"firstInhibitor\", \"firstBaron\", \n .     \"firstDragon\", \"firstRiftHerald\", \"t1_towerKills\", \"t1_inhibitorKills\", \n .     \"t1_baronKills\", \"t1_dragonKills\", \"t1_riftHeraldKills\", \n .     \"t2_towerKills\", \"t2_inhibitorKills\", \"t2_baronKills\", \"t2_dragonKills\", \n .     \"t2_riftHeraldKills\"), \"s0\"), x = c(-0.100766599059357, 0.665670412904375, \n . 0.558342541351791, -0.283491144091606, 1.107904000199, -0.113869824964529, \n . 0.561910529487499, -0.0427101634408465, -0.342431094856269, -1.34210479849289, \n . 0.209822433388669, -0.296866434448762, 0.0484396933971924, 0.505778690501316\n . ), factors = list()), TRUE)",
      "8. r_to_py.dgCMatrix(new(\"dgCMatrix\", i = c(0L, 1L, 2L, 4L, 6L, \n . 7L, 8L, 9L, 10L, 11L, 12L, 13L, 14L, 15L), p = c(0L, 14L), Dim = c(16L, \n . 1L), Dimnames = list(c(\"firstBlood\", \"firstTower\", \"firstInhibitor\", \n . \"firstBaron\", \"firstDragon\", \"firstRiftHerald\", \"t1_towerKills\", \n . \"t1_inhibitorKills\", \"t1_baronKills\", \"t1_dragonKills\", \"t1_riftHeraldKills\", \n . \"t2_towerKills\", \"t2_inhibitorKills\", \"t2_baronKills\", \"t2_dragonKills\", \n . \"t2_riftHeraldKills\"), \"s0\"), x = c(-0.100766599059357, 0.665670412904375, \n . 0.558342541351791, -0.283491144091606, 1.107904000199, -0.113869824964529, \n . 0.561910529487499, -0.0427101634408465, -0.342431094856269, -1.34210479849289, \n . 0.209822433388669, -0.296866434448762, 0.0484396933971924, 0.505778690501316\n . ), factors = list()), TRUE)",
      "9. r_to_py_impl(x, convert = convert)"
     ]
    }
   ],
   "source": [
    "library(reticulate)\n",
    "use_python(\"G:/anaconda/envs/py10/python.exe\", required = TRUE)\n",
    "py_save_object(lol_LASSO_min_AUC, \"lol_LASSO_min_AUC.pkl\")"
   ]
  },
  {
   "cell_type": "code",
   "execution_count": null,
   "id": "3410d846-9fa4-4957-a5d7-47d15529b7c9",
   "metadata": {},
   "outputs": [],
   "source": []
  }
 ],
 "metadata": {
  "kernelspec": {
   "display_name": "R",
   "language": "R",
   "name": "ir"
  },
  "language_info": {
   "codemirror_mode": "r",
   "file_extension": ".r",
   "mimetype": "text/x-r-source",
   "name": "R",
   "pygments_lexer": "r",
   "version": "4.1.3"
  }
 },
 "nbformat": 4,
 "nbformat_minor": 5
}
